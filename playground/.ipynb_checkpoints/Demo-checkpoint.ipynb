{
 "cells": [
  {
   "cell_type": "code",
   "execution_count": 25,
   "metadata": {},
   "outputs": [
    {
     "name": "stdout",
     "output_type": "stream",
     "text": [
      "The autoreload extension is already loaded. To reload it, use:\n",
      "  %reload_ext autoreload\n"
     ]
    }
   ],
   "source": [
    "import argparse\n",
    "\n",
    "import time\n",
    "import random\n",
    "import numpy as np\n",
    "import torch\n",
    "import torch.nn as nn\n",
    "import torch.nn.parallel\n",
    "import torch.backends.cudnn as cudnn\n",
    "import torch.optim as optim\n",
    "import torch.utils.data\n",
    "from torch.utils.data import Dataset\n",
    "import torchvision.datasets as dset\n",
    "import torchvision.transforms as transforms\n",
    "import torchvision.utils as vutils\n",
    "from nltk.corpus import stopwords\n",
    "\n",
    "from models import Concat, Discriminator, Generator\n",
    "from dataset import Birds\n",
    "%load_ext autoreload\n",
    "%autoreload 2"
   ]
  },
  {
   "cell_type": "code",
   "execution_count": 2,
   "metadata": {},
   "outputs": [],
   "source": [
    "stopwords = set(stopwords.words('english'))\n",
    "\n",
    "def weights_init(m):\n",
    "    classname = m.__class__.__name__\n",
    "    if classname.find('Conv') != -1:\n",
    "        m.weight.data.normal_(0.0, 0.02)\n",
    "    elif classname.find('BatchNorm') != -1:\n",
    "        m.weight.data.normal_(1.0, 0.02)\n",
    "        m.bias.data.fill_(0)\n",
    "        \n",
    "# class demoData(Dataset):\n",
    "    \n",
    "#     def __init__(self):\n",
    "#         self.bird = Birds()\n",
    "    \n",
    "#     def __len__(self):\n",
    "#         return 1\n",
    "\n",
    "#     def __getitem__(self,i):\n",
    "#         embedding_avg = np.empty(self.bird.encoding_dim)\n",
    "#         for word in self.sen.split():\n",
    "#             if word in stopwords or word not in self.bird.embeddings:\n",
    "#                 continue\n",
    "#             embedding_avg += self.bird.embeddings[word]\n",
    "#         embedding_avg /= len(sen.split())\n",
    "#         real_embedding = torch.from_numpy(embedding_avg)\n",
    "#         return real_embedding\n",
    "    \n",
    "#     def input(self, sen):\n",
    "#         self.sen =  sen"
   ]
  },
  {
   "cell_type": "code",
   "execution_count": 3,
   "metadata": {},
   "outputs": [
    {
     "name": "stdout",
     "output_type": "stream",
     "text": [
      "Loading Birds dataset in `dataset.py`: descriptions_per_img=10, encoding_dim=1024, incl_stopwords=True\n",
      "Loading images...\n",
      "done!\n",
      "Loading txt descriptions...\n",
      "done!\n",
      "Training word embeddings...\n",
      "done!\n",
      "Creating text encodings...\n",
      "done!\n"
     ]
    }
   ],
   "source": [
    "demosen = Birds()"
   ]
  },
  {
   "cell_type": "code",
   "execution_count": 30,
   "metadata": {},
   "outputs": [
    {
     "name": "stdout",
     "output_type": "stream",
     "text": [
      "torch.Size([128, 1, 1, 1]) 4\n",
      "hell\n"
     ]
    },
    {
     "ename": "TypeError",
     "evalue": "'str' object is not callable",
     "output_type": "error",
     "traceback": [
      "\u001b[0;31m---------------------------------------------------------------------------\u001b[0m",
      "\u001b[0;31mTypeError\u001b[0m                                 Traceback (most recent call last)",
      "\u001b[0;32m<ipython-input-30-58e3eba052d3>\u001b[0m in \u001b[0;36m<module>\u001b[0;34m\u001b[0m\n\u001b[1;32m     26\u001b[0m \u001b[0mnetG\u001b[0m\u001b[0;34m.\u001b[0m\u001b[0meval\u001b[0m\u001b[0;34m(\u001b[0m\u001b[0;34m)\u001b[0m\u001b[0;34m\u001b[0m\u001b[0m\n\u001b[1;32m     27\u001b[0m \u001b[0mfake\u001b[0m \u001b[0;34m=\u001b[0m \u001b[0mnetG\u001b[0m\u001b[0;34m(\u001b[0m\u001b[0mreal_emb\u001b[0m\u001b[0;34m,\u001b[0m \u001b[0mfixed_noise\u001b[0m\u001b[0;34m)\u001b[0m\u001b[0;34m\u001b[0m\u001b[0m\n\u001b[0;32m---> 28\u001b[0;31m \u001b[0mvutils\u001b[0m\u001b[0;34m.\u001b[0m\u001b[0msave_image\u001b[0m\u001b[0;34m(\u001b[0m\u001b[0mfake\u001b[0m\u001b[0;34m.\u001b[0m\u001b[0mdetach\u001b[0m\u001b[0;34m(\u001b[0m\u001b[0;34m)\u001b[0m\u001b[0;34m,\u001b[0m\u001b[0;34m'%s/fake_image.png'\u001b[0m\u001b[0;34m(\u001b[0m\u001b[0;34m'.'\u001b[0m\u001b[0;34m,\u001b[0m \u001b[0;36m10\u001b[0m\u001b[0;34m)\u001b[0m\u001b[0;34m,\u001b[0m\u001b[0mnormalize\u001b[0m\u001b[0;34m=\u001b[0m\u001b[0;32mTrue\u001b[0m\u001b[0;34m)\u001b[0m\u001b[0;34m\u001b[0m\u001b[0m\n\u001b[0m\u001b[1;32m     29\u001b[0m \u001b[0;31m#print(\"done\")\u001b[0m\u001b[0;34m\u001b[0m\u001b[0;34m\u001b[0m\u001b[0m\n",
      "\u001b[0;31mTypeError\u001b[0m: 'str' object is not callable"
     ]
    }
   ],
   "source": [
    "#opt = parser.parse_args()\n",
    "\n",
    "device = torch.device(\"cpu\")\n",
    "ngpu = 0 # num gpus\n",
    "nz = 227\n",
    "\n",
    "sen = \"a bird with blue body and red tail\"\n",
    "real_emb = None\n",
    "#demosen.input(sen)\n",
    "\n",
    "for i, (real_image, real_embedding, wrong_embedding) in enumerate(demosen, 0):\n",
    "    real_emb = real_embedding\n",
    "    if i == 4:\n",
    "        break\n",
    "#real_emb = real_emb.to(device)\n",
    "netG = Generator(ngpu)\n",
    "netG.load_state_dict(torch.load(\"netG_epoch_99.pth\", map_location='cpu'))\n",
    "\n",
    "optimizerG = optim.Adam(netG.parameters(), lr=0.0002, betas=(0.5, 0.999))\n",
    "\n",
    "# noise = torch.randn(128, nz, 1, 1, device=device)\n",
    "# fake = netG(real_emb, noise)\n",
    "fixed_noise = torch.randn(128, nz, 1, 1, device=device)\n",
    "netG.zero_grad()\n",
    "optimizerG.step()\n",
    "#netG.eval()\n",
    "fake = netG(real_emb, fixed_noise)\n",
    "vutils.save_image(fake.detach(),'%s/fake_%03d.png' % ('.', 10),normalize=True)\n",
    "#print(\"done\")"
   ]
  },
  {
   "cell_type": "code",
   "execution_count": null,
   "metadata": {},
   "outputs": [],
   "source": []
  },
  {
   "cell_type": "code",
   "execution_count": null,
   "metadata": {},
   "outputs": [],
   "source": []
  }
 ],
 "metadata": {
  "kernelspec": {
   "display_name": "Python 3",
   "language": "python",
   "name": "python3"
  },
  "language_info": {
   "codemirror_mode": {
    "name": "ipython",
    "version": 3
   },
   "file_extension": ".py",
   "mimetype": "text/x-python",
   "name": "python",
   "nbconvert_exporter": "python",
   "pygments_lexer": "ipython3",
   "version": "3.6.4"
  }
 },
 "nbformat": 4,
 "nbformat_minor": 2
}
